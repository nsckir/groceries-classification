{
 "cells": [
  {
   "cell_type": "code",
   "execution_count": 1,
   "metadata": {
    "collapsed": true
   },
   "outputs": [],
   "source": [
    "import pandas as pd\n",
    "import numpy as np\n",
    "import sys\n",
    "sys.path.append('~mxnet/tools/')"
   ]
  },
  {
   "cell_type": "code",
   "execution_count": 2,
   "metadata": {
    "collapsed": false
   },
   "outputs": [],
   "source": [
    "import mxnet as mx"
   ]
  },
  {
   "cell_type": "code",
   "execution_count": 4,
   "metadata": {
    "collapsed": true
   },
   "outputs": [],
   "source": [
    "import os, urllib\n",
    "def download(savepath,url):\n",
    "    filename = url.split(\"/\")[-1]\n",
    "    if not os.path.exists(savepath+filename):\n",
    "        urllib.urlretrieve(url, savepath+filename)\n",
    "        \n",
    "def get_model(model_path,prefix, epoch):\n",
    "    download(model_path,prefix+'-symbol.json')\n",
    "    download(model_path,prefix+'-%04d.params' % (epoch,))"
   ]
  },
  {
   "cell_type": "code",
   "execution_count": 5,
   "metadata": {
    "collapsed": false
   },
   "outputs": [],
   "source": [
    "model_path = '../models/'\n",
    "get_model(model_path,'http://data.mxnet.io/models/imagenet-11k/resnet-152/resnet-152', 0)\n",
    "get_model(model_path,'http://data.mxnet.io/models/imagenet/resnet/50-layers/resnet-50', 0)\n",
    "get_model(model_path,'http://data.mxnet.io/models/imagenet/squeezenet/squeezenet_v1.0', 0)\n",
    "get_model(model_path,'http://data.mxnet.io/models/imagenet/squeezenet/squeezenet_v1.1', 0)"
   ]
  },
  {
   "cell_type": "code",
   "execution_count": 100,
   "metadata": {
    "collapsed": false
   },
   "outputs": [
    {
     "data": {
      "text/plain": [
       "'n09824609'"
      ]
     },
     "execution_count": 100,
     "metadata": {},
     "output_type": "execute_result"
    }
   ],
   "source": [
    "full_synsets = [l.strip() for l in open(model_path+'resnet-152-synset.txt').readlines()]\n",
    "\n",
    "full_synsets[8575].split(' ')[0]"
   ]
  },
  {
   "cell_type": "code",
   "execution_count": 6,
   "metadata": {
    "collapsed": true
   },
   "outputs": [],
   "source": [
    "model_name = 'resnet-152'\n",
    "sym, arg_params, aux_params = mx.model.load_checkpoint(model_path+model_name, 0)"
   ]
  },
  {
   "cell_type": "code",
   "execution_count": null,
   "metadata": {
    "collapsed": false
   },
   "outputs": [],
   "source": [
    "aux_params"
   ]
  },
  {
   "cell_type": "code",
   "execution_count": 73,
   "metadata": {
    "collapsed": true
   },
   "outputs": [],
   "source": [
    "mod = mx.mod.Module(symbol=sym, context=mx.cpu())"
   ]
  },
  {
   "cell_type": "code",
   "execution_count": 74,
   "metadata": {
    "collapsed": false
   },
   "outputs": [],
   "source": [
    "mod.bind(for_training=False, data_shapes=[('data', (batch_size,3,224,224))])"
   ]
  },
  {
   "cell_type": "code",
   "execution_count": 75,
   "metadata": {
    "collapsed": false
   },
   "outputs": [],
   "source": [
    "mod.set_params(arg_params, aux_params)"
   ]
  },
  {
   "cell_type": "code",
   "execution_count": null,
   "metadata": {
    "collapsed": false,
    "scrolled": true
   },
   "outputs": [],
   "source": [
    "mx.viz.plot_network(sym)"
   ]
  },
  {
   "cell_type": "code",
   "execution_count": 76,
   "metadata": {
    "collapsed": true
   },
   "outputs": [],
   "source": [
    "data_shape=(3, 224, 224)\n",
    "num_classes = 178\n",
    "batch_per_gpu = 8\n",
    "num_gpus = 1\n",
    "\n",
    "\n",
    "batch_size = batch_per_gpu * num_gpus"
   ]
  },
  {
   "cell_type": "code",
   "execution_count": 77,
   "metadata": {
    "collapsed": false
   },
   "outputs": [],
   "source": [
    "val = mx.io.ImageRecordIter(\n",
    "    path_imgrec         = '../data/raw/acorn squash_n07717410/acorn_val.rec',\n",
    "    data_name           = 'data',\n",
    "    label_name          = 'softmax_label',\n",
    "    batch_size          = batch_size,\n",
    "    data_shape          = data_shape,\n",
    "    rand_crop           = False,\n",
    "    rand_mirror         = False\n",
    "        )"
   ]
  },
  {
   "cell_type": "code",
   "execution_count": 80,
   "metadata": {
    "collapsed": false
   },
   "outputs": [
    {
     "name": "stdout",
     "output_type": "stream",
     "text": [
      "CPU times: user 47.7 s, sys: 13.4 s, total: 1min 1s\n",
      "Wall time: 15.6 s\n"
     ]
    }
   ],
   "source": [
    "%%time\n",
    "\n",
    "a = mod.predict(val)"
   ]
  },
  {
   "cell_type": "code",
   "execution_count": 79,
   "metadata": {
    "collapsed": false
   },
   "outputs": [
    {
     "data": {
      "text/plain": [
       "array([ 636, 6343, 7506, 9989, 7516, 9989, 7516, 7516, 9989, 9989, 7515,\n",
       "       7516, 9989, 7516, 7516, 9989, 7516, 7709, 7516, 7516, 7509, 9989,\n",
       "       9989, 9989, 9989, 7516, 7515, 7516, 9989, 7516, 7516, 9989, 9994,\n",
       "       7509, 7516, 7516, 7516, 7516, 9989, 9989, 9989, 7517, 9989, 7516,\n",
       "       7516, 9989, 7516, 7516, 7515, 9989, 7516, 7516, 7516, 7516])"
      ]
     },
     "execution_count": 79,
     "metadata": {},
     "output_type": "execute_result"
    }
   ],
   "source": [
    "np.argmax(a.asnumpy(), axis=1)"
   ]
  },
  {
   "cell_type": "code",
   "execution_count": 81,
   "metadata": {
    "collapsed": false
   },
   "outputs": [
    {
     "data": {
      "text/plain": [
       "array([7516, 9989, 7515, 9988, 7517])"
      ]
     },
     "execution_count": 81,
     "metadata": {},
     "output_type": "execute_result"
    }
   ],
   "source": [
    "pred = a.asnumpy()\n",
    "ipred.argsort()[-5:][::-1]"
   ]
  },
  {
   "cell_type": "code",
   "execution_count": 85,
   "metadata": {
    "collapsed": false
   },
   "outputs": [
    {
     "data": {
      "text/plain": [
       "0.87"
      ]
     },
     "execution_count": 85,
     "metadata": {},
     "output_type": "execute_result"
    }
   ],
   "source": [
    "cats= []\n",
    "for ipred in pred:\n",
    "    cats.append( 7516 in ipred.argsort()[-5:][::-1])\n",
    "round(float(sum(cats))/len(cats),2)"
   ]
  }
 ],
 "metadata": {
  "kernelspec": {
   "display_name": "Python 2",
   "language": "python",
   "name": "python2"
  },
  "language_info": {
   "codemirror_mode": {
    "name": "ipython",
    "version": 2.0
   },
   "file_extension": ".py",
   "mimetype": "text/x-python",
   "name": "python",
   "nbconvert_exporter": "python",
   "pygments_lexer": "ipython2",
   "version": "2.7.13"
  }
 },
 "nbformat": 4,
 "nbformat_minor": 0
}