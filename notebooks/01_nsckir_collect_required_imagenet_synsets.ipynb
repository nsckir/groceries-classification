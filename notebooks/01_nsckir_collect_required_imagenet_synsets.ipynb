{
 "cells": [
  {
   "cell_type": "code",
   "execution_count": 1,
   "metadata": {
    "collapsed": false
   },
   "outputs": [],
   "source": [
    "import pandas as pd\n",
    "import urllib\n",
    "import os\n",
    "import httplib2\n",
    "\n",
    "from apiclient import discovery\n",
    "from oauth2client import client\n",
    "from oauth2client import tools\n",
    "from oauth2client.file import Storage"
   ]
  },
  {
   "cell_type": "code",
   "execution_count": 2,
   "metadata": {
    "collapsed": true
   },
   "outputs": [],
   "source": [
    "def download(url,filename):\n",
    "    #filename = url.split(\"/\")[-1]\n",
    "    if not os.path.exists(filename):\n",
    "        urllib.urlretrieve(url, filename)"
   ]
  },
  {
   "cell_type": "code",
   "execution_count": 3,
   "metadata": {
    "collapsed": false
   },
   "outputs": [
    {
     "name": "stdout",
     "output_type": "stream",
     "text": [
      "Original wnids and dscriptions form Image-Net\n"
     ]
    },
    {
     "data": {
      "text/html": [
       "<div>\n",
       "<table border=\"1\" class=\"dataframe\">\n",
       "  <thead>\n",
       "    <tr style=\"text-align: right;\">\n",
       "      <th></th>\n",
       "      <th>wnid</th>\n",
       "      <th>description</th>\n",
       "    </tr>\n",
       "  </thead>\n",
       "  <tbody>\n",
       "    <tr>\n",
       "      <th>0</th>\n",
       "      <td>n00001740</td>\n",
       "      <td>entity</td>\n",
       "    </tr>\n",
       "    <tr>\n",
       "      <th>1</th>\n",
       "      <td>n00001930</td>\n",
       "      <td>physical entity</td>\n",
       "    </tr>\n",
       "    <tr>\n",
       "      <th>2</th>\n",
       "      <td>n00002137</td>\n",
       "      <td>abstraction, abstract entity</td>\n",
       "    </tr>\n",
       "    <tr>\n",
       "      <th>3</th>\n",
       "      <td>n00002452</td>\n",
       "      <td>thing</td>\n",
       "    </tr>\n",
       "    <tr>\n",
       "      <th>4</th>\n",
       "      <td>n00002684</td>\n",
       "      <td>object, physical object</td>\n",
       "    </tr>\n",
       "  </tbody>\n",
       "</table>\n",
       "</div>"
      ],
      "text/plain": [
       "        wnid                   description\n",
       "0  n00001740                        entity\n",
       "1  n00001930               physical entity\n",
       "2  n00002137  abstraction, abstract entity\n",
       "3  n00002452                         thing\n",
       "4  n00002684       object, physical object"
      ]
     },
     "execution_count": 3,
     "metadata": {},
     "output_type": "execute_result"
    }
   ],
   "source": [
    "url =  'http://image-net.org/archive/words.txt'\n",
    "filename = 'all_imagenet_synsets_and_descriptions.txt'\n",
    "\n",
    "download(url,filename) \n",
    "\n",
    "df = pd.read_csv(filename, sep=r'\\t',engine='python',\n",
    "                          names=['wnid','description'],na_filter=False)\n",
    "print 'Original wnids and dscriptions form Image-Net'\n",
    "df.head()"
   ]
  },
  {
   "cell_type": "code",
   "execution_count": 4,
   "metadata": {
    "collapsed": false
   },
   "outputs": [
    {
     "name": "stdout",
     "output_type": "stream",
     "text": [
      "All wnids descriptions split in one column\n"
     ]
    },
    {
     "data": {
      "text/html": [
       "<div>\n",
       "<table border=\"1\" class=\"dataframe\">\n",
       "  <thead>\n",
       "    <tr style=\"text-align: right;\">\n",
       "      <th></th>\n",
       "      <th>description</th>\n",
       "      <th>wnid</th>\n",
       "    </tr>\n",
       "  </thead>\n",
       "  <tbody>\n",
       "    <tr>\n",
       "      <th>0</th>\n",
       "      <td>entity</td>\n",
       "      <td>n00001740</td>\n",
       "    </tr>\n",
       "    <tr>\n",
       "      <th>1</th>\n",
       "      <td>physical entity</td>\n",
       "      <td>n00001930</td>\n",
       "    </tr>\n",
       "    <tr>\n",
       "      <th>2</th>\n",
       "      <td>abstraction</td>\n",
       "      <td>n00002137</td>\n",
       "    </tr>\n",
       "    <tr>\n",
       "      <th>3</th>\n",
       "      <td>abstract entity</td>\n",
       "      <td>n00002137</td>\n",
       "    </tr>\n",
       "    <tr>\n",
       "      <th>4</th>\n",
       "      <td>thing</td>\n",
       "      <td>n00002452</td>\n",
       "    </tr>\n",
       "  </tbody>\n",
       "</table>\n",
       "</div>"
      ],
      "text/plain": [
       "       description       wnid\n",
       "0           entity  n00001740\n",
       "1  physical entity  n00001930\n",
       "2      abstraction  n00002137\n",
       "3  abstract entity  n00002137\n",
       "4            thing  n00002452"
      ]
     },
     "execution_count": 4,
     "metadata": {},
     "output_type": "execute_result"
    }
   ],
   "source": [
    "filename = 'all_wnids.csv'\n",
    "sep= ';'\n",
    "if not os.path.exists(filename):\n",
    "    df_temp = pd.concat([pd.Series(row['wnid'], row['description'].split(','))              \n",
    "                        for _, row in df.iterrows()]).reset_index()\n",
    "    all_wnids = df_temp.rename(columns={'index':'description',0:'wnid'})\n",
    "    all_wnids['description'] = all_wnids['description'].str.lower().str.strip()\n",
    "    all_wnids.to_csv('all_wnids.csv',sep=sep,index=False)\n",
    "else: \n",
    "    all_wnids = pd.read_csv(filename,sep=sep)\n",
    "print 'All wnids descriptions split in one column'\n",
    "all_wnids.head()"
   ]
  },
  {
   "cell_type": "code",
   "execution_count": 5,
   "metadata": {
    "collapsed": false
   },
   "outputs": [
    {
     "data": {
      "text/plain": [
       "146347"
      ]
     },
     "execution_count": 5,
     "metadata": {},
     "output_type": "execute_result"
    }
   ],
   "source": [
    "len(all_wnids)"
   ]
  },
  {
   "cell_type": "code",
   "execution_count": 6,
   "metadata": {
    "collapsed": false
   },
   "outputs": [
    {
     "name": "stdout",
     "output_type": "stream",
     "text": [
      "       description       wnid\n",
      "44632        fruit  n04612722\n",
      "68317        fruit  n07294550\n",
      "126326       fruit  n13134947 \n",
      "\n",
      "       description       wnid\n",
      "72367    vegetable  n07707451\n",
      "115918   vegetable  n12212361 \n",
      "\n",
      "Vegetables Master Synset: \tn07707451\n",
      "Fruits Master Synset: \t\tn13134947\n"
     ]
    }
   ],
   "source": [
    "print all_wnids.ix[all_wnids.description == 'fruit'], '\\n'\n",
    "\n",
    "print all_wnids.ix[all_wnids.description =='vegetable'], '\\n'\n",
    "\n",
    "veg_wnid = 'n07707451'\n",
    "fruit_wnid = 'n13134947'\n",
    "# veg_wnid = all_wnids.ix[all_wnids.description =='vegetable'].values[0,1]\n",
    "# fruit_wnid = all_wnids.ix[all_wnids.description =='fruit'].values[1,1]\n",
    "\n",
    "print 'Vegetables Master Synset:','\\t',veg_wnid\n",
    "print 'Fruits Master Synset:','\\t\\t',fruit_wnid"
   ]
  },
  {
   "cell_type": "code",
   "execution_count": 7,
   "metadata": {
    "collapsed": false
   },
   "outputs": [
    {
     "name": "stdout",
     "output_type": "stream",
     "text": [
      "All subcategories from n07707451\n",
      "        wnid       group\n",
      "0  n07707451  vegetables\n",
      "1  n07708124  vegetables\n",
      "2  n07708398  vegetables\n",
      "3  n07709046  vegetables\n",
      "4  n07725158  vegetables\n",
      "All subcategories from n13134947\n",
      "        wnid   group\n",
      "0  n13134947  fruits\n",
      "1  n07745940  fruits\n",
      "2  n07738105  fruits\n",
      "3  n07738224  fruits\n",
      "4  n07739035  fruits\n"
     ]
    }
   ],
   "source": [
    "url1 = 'http://www.image-net.org/api/text/wordnet.structure.hyponym?wnid='\n",
    "param1 = '&full=1'\n",
    "\n",
    "response = urllib.urlopen(url1+veg_wnid+param1)\n",
    "veg_wnids = pd.DataFrame(response.read().replace('-','').splitlines())\n",
    "veg_wnids.columns = ['wnid']\n",
    "veg_wnids['group']='vegetables'\n",
    "print 'All subcategories from', veg_wnid\n",
    "print veg_wnids.head()\n",
    "\n",
    "response = urllib.urlopen(url1+fruit_wnid+param1)\n",
    "fruit_wnids = pd.DataFrame(response.read().replace('-','').splitlines())\n",
    "fruit_wnids.columns = ['wnid']\n",
    "fruit_wnids['group']='fruits'\n",
    "print 'All subcategories from', fruit_wnid\n",
    "print fruit_wnids.head()"
   ]
  },
  {
   "cell_type": "code",
   "execution_count": 8,
   "metadata": {
    "collapsed": false
   },
   "outputs": [
    {
     "data": {
      "text/plain": [
       "(497, 2)"
      ]
     },
     "execution_count": 8,
     "metadata": {},
     "output_type": "execute_result"
    }
   ],
   "source": [
    "all_fr_veg_wnids = veg_wnids.append(fruit_wnids)\n",
    "all_fr_veg_wnids.shape"
   ]
  },
  {
   "cell_type": "code",
   "execution_count": 9,
   "metadata": {
    "collapsed": true
   },
   "outputs": [],
   "source": [
    "# If modifying these scopes, delete your previously saved credentials\n",
    "# at ~/.credentials/sheets.googleapis.com-python-quickstart.json\n",
    "SCOPES = 'https://www.googleapis.com/auth/spreadsheets.readonly'\n",
    "CLIENT_SECRET_FILE = '../client_secret.json'\n",
    "APPLICATION_NAME = 'Test'\n",
    "\n",
    "\n",
    "def get_credentials():\n",
    "    \"\"\"Gets valid user credentials from storage.\n",
    "\n",
    "    If nothing has been stored, or if the stored credentials are invalid,\n",
    "    the OAuth2 flow is completed to obtain the new credentials.\n",
    "\n",
    "    Returns:\n",
    "        Credentials, the obtained credential.\n",
    "    \"\"\"\n",
    "    home_dir = os.path.expanduser('~')\n",
    "    credential_dir = os.path.join(home_dir, '.credentials')\n",
    "    if not os.path.exists(credential_dir):\n",
    "        os.makedirs(credential_dir)\n",
    "    credential_path = os.path.join(credential_dir,\n",
    "                                   'sheets.googleapis.com-python-quickstart.json')\n",
    "\n",
    "    store = Storage(credential_path)\n",
    "    credentials = store.get()\n",
    "    if not credentials or credentials.invalid:\n",
    "        flow = client.flow_from_clientsecrets(CLIENT_SECRET_FILE, SCOPES)\n",
    "        flow.user_agent = APPLICATION_NAME\n",
    "        if flags:\n",
    "            credentials = tools.run_flow(flow, store, flags)\n",
    "        else: # Needed only for compatibility with Python 2.6\n",
    "            credentials = tools.run(flow, store)\n",
    "        print 'Storing credentials to ' + credential_path \n",
    "    return credentials\n",
    "\n",
    "\n",
    "\"\"\"Shows basic usage of the Sheets API.\n",
    "\n",
    "ingrdients spreadsheet:\n",
    "https://docs.google.com/spreadsheets/d/1LHojuRe1U7nhJUG-m7aMfA4BNQX-BmbmGlCSErE1NIg/edit\n",
    "\"\"\"\n",
    "credentials = get_credentials()\n",
    "http = credentials.authorize(httplib2.Http())\n",
    "discoveryUrl = ('https://sheets.googleapis.com/$discovery/rest?'\n",
    "                'version=v4')\n",
    "service = discovery.build('sheets', 'v4', http=http,\n",
    "                          discoveryServiceUrl=discoveryUrl)\n",
    "\n",
    "spreadsheetId = '1LHojuRe1U7nhJUG-m7aMfA4BNQX-BmbmGlCSErE1NIg'\n",
    "rangeName = 'All_in_one'\n",
    "result = service.spreadsheets().values().get(\n",
    "    spreadsheetId=spreadsheetId, range=rangeName).execute()\n",
    "values = result.get('values', [])\n",
    "\n",
    "if not values:\n",
    "    print 'No data found.'"
   ]
  },
  {
   "cell_type": "code",
   "execution_count": 10,
   "metadata": {
    "collapsed": false
   },
   "outputs": [
    {
     "data": {
      "text/html": [
       "<div>\n",
       "<table border=\"1\" class=\"dataframe\">\n",
       "  <thead>\n",
       "    <tr style=\"text-align: right;\">\n",
       "      <th></th>\n",
       "      <th>0</th>\n",
       "      <th>1</th>\n",
       "      <th>2</th>\n",
       "      <th>3</th>\n",
       "      <th>4</th>\n",
       "      <th>5</th>\n",
       "    </tr>\n",
       "  </thead>\n",
       "  <tbody>\n",
       "    <tr>\n",
       "      <th>0</th>\n",
       "      <td>Fruit</td>\n",
       "      <td>Apple</td>\n",
       "      <td>None</td>\n",
       "      <td>None</td>\n",
       "      <td>None</td>\n",
       "      <td>None</td>\n",
       "    </tr>\n",
       "    <tr>\n",
       "      <th>1</th>\n",
       "      <td>Fruit</td>\n",
       "      <td>Apricot</td>\n",
       "      <td>None</td>\n",
       "      <td>None</td>\n",
       "      <td>None</td>\n",
       "      <td>None</td>\n",
       "    </tr>\n",
       "    <tr>\n",
       "      <th>2</th>\n",
       "      <td>Fruit</td>\n",
       "      <td>Banana</td>\n",
       "      <td>None</td>\n",
       "      <td>None</td>\n",
       "      <td>None</td>\n",
       "      <td>None</td>\n",
       "    </tr>\n",
       "    <tr>\n",
       "      <th>3</th>\n",
       "      <td>Fruit</td>\n",
       "      <td>Blackberry</td>\n",
       "      <td>None</td>\n",
       "      <td>None</td>\n",
       "      <td>None</td>\n",
       "      <td>None</td>\n",
       "    </tr>\n",
       "    <tr>\n",
       "      <th>4</th>\n",
       "      <td>Fruit</td>\n",
       "      <td>Blueberry</td>\n",
       "      <td>None</td>\n",
       "      <td>None</td>\n",
       "      <td>None</td>\n",
       "      <td>None</td>\n",
       "    </tr>\n",
       "  </tbody>\n",
       "</table>\n",
       "</div>"
      ],
      "text/plain": [
       "       0           1     2     3     4     5\n",
       "0  Fruit       Apple  None  None  None  None\n",
       "1  Fruit     Apricot  None  None  None  None\n",
       "2  Fruit      Banana  None  None  None  None\n",
       "3  Fruit  Blackberry  None  None  None  None\n",
       "4  Fruit   Blueberry  None  None  None  None"
      ]
     },
     "execution_count": 10,
     "metadata": {},
     "output_type": "execute_result"
    }
   ],
   "source": [
    "scoodit_ingredients = pd.DataFrame(values[1:])\n",
    "#                                    ,columns=values[0])\\\n",
    "#                         .dropna(subset=['Categorie1'])\\\n",
    "scoodit_ingredients.head()"
   ]
  },
  {
   "cell_type": "code",
   "execution_count": null,
   "metadata": {
    "collapsed": false
   },
   "outputs": [],
   "source": [
    "for ind, ing in scoodit_ingredients.iterrows():\n",
    "    if  "
   ]
  },
  {
   "cell_type": "code",
   "execution_count": null,
   "metadata": {
    "collapsed": false
   },
   "outputs": [],
   "source": [
    "for col in scoodit_ingredients.columns:\n",
    "    scoodit_ingredients[col]= scoodit_ingredients[col].str.lower().str.strip()\n",
    "scoodit_ingredients.dropna(subset=['Categorie1'],inplace=True)"
   ]
  },
  {
   "cell_type": "code",
   "execution_count": null,
   "metadata": {
    "collapsed": false
   },
   "outputs": [],
   "source": [
    "scoodit_ingredients.shape"
   ]
  },
  {
   "cell_type": "code",
   "execution_count": null,
   "metadata": {
    "collapsed": false
   },
   "outputs": [],
   "source": [
    "scoodit_ingredients.head()"
   ]
  },
  {
   "cell_type": "code",
   "execution_count": null,
   "metadata": {
    "collapsed": false
   },
   "outputs": [],
   "source": [
    "df1 = pd.merge(all_fr_veg_wnids,all_wnids,how='inner',on='wnid')\n",
    "print df1.shape\n",
    "df1.head()"
   ]
  },
  {
   "cell_type": "code",
   "execution_count": null,
   "metadata": {
    "collapsed": false
   },
   "outputs": [],
   "source": [
    "print all_fr_veg_wnids.shape\n",
    "all_fr_veg_wnids.head()"
   ]
  },
  {
   "cell_type": "code",
   "execution_count": null,
   "metadata": {
    "collapsed": false
   },
   "outputs": [],
   "source": [
    "print all_wnids.shape\n",
    "all_wnids.head()"
   ]
  },
  {
   "cell_type": "code",
   "execution_count": null,
   "metadata": {
    "collapsed": false
   },
   "outputs": [],
   "source": [
    "merged_set = set()\n",
    "orig_set = set()\n",
    "merged_df = scoodit_ingredients\n",
    "for col in scoodit_ingredients.columns[1:2]:\n",
    "    print col\n",
    "    merged_df = pd.merge(merged_df,all_wnids,left_on=col,right_on='description')\\\n",
    "    .sort_values('wnid').drop_duplicates(subset='wnid')\n",
    "    \n",
    "    merged_set = merged_set.union(set(merged_df[col]))\n",
    "    orig_set = set(scoodit_ingredients[col])\n",
    "    missing = [i for i in orig_set if i not in merged_set]\n",
    "    missing_ingredients = scoodit_ingredients.ix[scoodit_ingredients[col].isin(missing)]"
   ]
  },
  {
   "cell_type": "code",
   "execution_count": null,
   "metadata": {
    "collapsed": false
   },
   "outputs": [],
   "source": [
    "len(missing_ingredients)"
   ]
  },
  {
   "cell_type": "code",
   "execution_count": null,
   "metadata": {
    "collapsed": false
   },
   "outputs": [],
   "source": [
    "len(missing)"
   ]
  },
  {
   "cell_type": "code",
   "execution_count": null,
   "metadata": {
    "collapsed": false
   },
   "outputs": [],
   "source": [
    "merged_df"
   ]
  },
  {
   "cell_type": "code",
   "execution_count": null,
   "metadata": {
    "collapsed": false
   },
   "outputs": [],
   "source": [
    "print test.shape\n",
    "test.head()"
   ]
  },
  {
   "cell_type": "code",
   "execution_count": null,
   "metadata": {
    "collapsed": false
   },
   "outputs": [],
   "source": [
    "merged_set = set(test.Categorie1)\n",
    "orig_set = set(scoodit_ingredients.Categorie1)\n",
    "\n",
    "[i for i in orig_set if i not in merged_set]"
   ]
  },
  {
   "cell_type": "code",
   "execution_count": null,
   "metadata": {
    "collapsed": false
   },
   "outputs": [],
   "source": [
    "all_wnids.ix[all_wnids['description'].str.contains('white radish') == True]"
   ]
  },
  {
   "cell_type": "code",
   "execution_count": null,
   "metadata": {
    "collapsed": false
   },
   "outputs": [],
   "source": [
    "test2 = pd.melt(scoodit_ingredients, id_vars=[\"Group\"], \n",
    "                  var_name=\"Date\", value_name=\"Value\").dropna(subset=['Value']).drop(['Date'],axis=1)"
   ]
  },
  {
   "cell_type": "code",
   "execution_count": null,
   "metadata": {
    "collapsed": false
   },
   "outputs": [],
   "source": [
    "test2.ix[test2['Group'] == 'seafood']"
   ]
  },
  {
   "cell_type": "code",
   "execution_count": null,
   "metadata": {
    "collapsed": true
   },
   "outputs": [],
   "source": []
  }
 ],
 "metadata": {
  "kernelspec": {
   "display_name": "Python 2",
   "language": "python",
   "name": "python2"
  },
  "language_info": {
   "codemirror_mode": {
    "name": "ipython",
    "version": 2
   },
   "file_extension": ".py",
   "mimetype": "text/x-python",
   "name": "python",
   "nbconvert_exporter": "python",
   "pygments_lexer": "ipython2",
   "version": "2.7.13"
  }
 },
 "nbformat": 4,
 "nbformat_minor": 0
}
