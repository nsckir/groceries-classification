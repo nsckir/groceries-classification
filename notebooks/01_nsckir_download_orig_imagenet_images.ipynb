{
 "cells": [
  {
   "cell_type": "code",
   "execution_count": 1,
   "metadata": {
    "collapsed": false
   },
   "outputs": [],
   "source": [
    "import pandas as pd\n",
    "import urllib\n",
    "import os\n",
    "import httplib2\n",
    "import numpy as np\n",
    "from apiclient import discovery\n",
    "from oauth2client import client\n",
    "from oauth2client import tools\n",
    "from oauth2client.file import Storage\n",
    "import sys\n",
    "\n",
    "sys.path.append('../src/data/')\n",
    "import _init_paths\n",
    "import imagedownloader\n",
    "import pref_utils\n",
    "from subprocess import Popen, PIPE\n",
    "from os import environ"
   ]
  },
  {
   "cell_type": "code",
   "execution_count": 2,
   "metadata": {
    "collapsed": false
   },
   "outputs": [],
   "source": [
    "def source(script, update=1):\n",
    "    pipe = Popen(\". %s; env\" % script, stdout=PIPE, shell=True)\n",
    "    data = pipe.communicate()[0]\n",
    "\n",
    "    env = dict((line.split(\"=\", 1) for line in data.splitlines()))\n",
    "    if update:\n",
    "        environ.update(env)\n",
    "\n",
    "    return env"
   ]
  },
  {
   "cell_type": "code",
   "execution_count": 3,
   "metadata": {
    "collapsed": false
   },
   "outputs": [
    {
     "name": "stdout",
     "output_type": "stream",
     "text": [
      "list of scoodit ingredients from google doc\n"
     ]
    },
    {
     "data": {
      "text/html": [
       "<div>\n",
       "<table border=\"1\" class=\"dataframe\">\n",
       "  <thead>\n",
       "    <tr style=\"text-align: right;\">\n",
       "      <th></th>\n",
       "      <th>Group</th>\n",
       "      <th>Categorie1</th>\n",
       "      <th>Synonym1</th>\n",
       "      <th>Synonym2</th>\n",
       "      <th>Synonym3</th>\n",
       "      <th>Synonym4</th>\n",
       "      <th>Synonym5</th>\n",
       "      <th>wnid1</th>\n",
       "      <th>wnid2</th>\n",
       "      <th>wnid3</th>\n",
       "    </tr>\n",
       "  </thead>\n",
       "  <tbody>\n",
       "    <tr>\n",
       "      <th>0</th>\n",
       "      <td>fruit</td>\n",
       "      <td>apple</td>\n",
       "      <td></td>\n",
       "      <td></td>\n",
       "      <td></td>\n",
       "      <td></td>\n",
       "      <td></td>\n",
       "      <td>n07739125</td>\n",
       "      <td>None</td>\n",
       "      <td>None</td>\n",
       "    </tr>\n",
       "    <tr>\n",
       "      <th>1</th>\n",
       "      <td>fruit</td>\n",
       "      <td>apricot</td>\n",
       "      <td></td>\n",
       "      <td></td>\n",
       "      <td></td>\n",
       "      <td></td>\n",
       "      <td></td>\n",
       "      <td>n07750872</td>\n",
       "      <td>None</td>\n",
       "      <td>None</td>\n",
       "    </tr>\n",
       "    <tr>\n",
       "      <th>2</th>\n",
       "      <td>fruit</td>\n",
       "      <td>banana</td>\n",
       "      <td></td>\n",
       "      <td></td>\n",
       "      <td></td>\n",
       "      <td></td>\n",
       "      <td></td>\n",
       "      <td>n07753592</td>\n",
       "      <td>None</td>\n",
       "      <td>None</td>\n",
       "    </tr>\n",
       "    <tr>\n",
       "      <th>3</th>\n",
       "      <td>fruit</td>\n",
       "      <td>blackberry</td>\n",
       "      <td></td>\n",
       "      <td></td>\n",
       "      <td></td>\n",
       "      <td></td>\n",
       "      <td></td>\n",
       "      <td>n07744811</td>\n",
       "      <td>None</td>\n",
       "      <td>None</td>\n",
       "    </tr>\n",
       "    <tr>\n",
       "      <th>4</th>\n",
       "      <td>fruit</td>\n",
       "      <td>blueberry</td>\n",
       "      <td></td>\n",
       "      <td></td>\n",
       "      <td></td>\n",
       "      <td></td>\n",
       "      <td></td>\n",
       "      <td>n07743544</td>\n",
       "      <td>None</td>\n",
       "      <td>None</td>\n",
       "    </tr>\n",
       "  </tbody>\n",
       "</table>\n",
       "</div>"
      ],
      "text/plain": [
       "   Group  Categorie1 Synonym1 Synonym2 Synonym3 Synonym4 Synonym5      wnid1  \\\n",
       "0  fruit       apple                                               n07739125   \n",
       "1  fruit     apricot                                               n07750872   \n",
       "2  fruit      banana                                               n07753592   \n",
       "3  fruit  blackberry                                               n07744811   \n",
       "4  fruit   blueberry                                               n07743544   \n",
       "\n",
       "  wnid2 wnid3  \n",
       "0  None  None  \n",
       "1  None  None  \n",
       "2  None  None  \n",
       "3  None  None  \n",
       "4  None  None  "
      ]
     },
     "execution_count": 3,
     "metadata": {},
     "output_type": "execute_result"
    }
   ],
   "source": [
    "# If modifying these scopes, delete your previously saved credentials\n",
    "# at ~/.credentials/sheets.googleapis.com-python-quickstart.json\n",
    "SCOPES = 'https://www.googleapis.com/auth/spreadsheets.readonly'\n",
    "CLIENT_SECRET_FILE = '../client_secret.json'\n",
    "APPLICATION_NAME = 'Test'\n",
    "\n",
    "\n",
    "def get_credentials():\n",
    "    \"\"\"Gets valid user credentials from storage.\n",
    "\n",
    "    If nothing has been stored, or if the stored credentials are invalid,\n",
    "    the OAuth2 flow is completed to obtain the new credentials.\n",
    "\n",
    "    Returns:\n",
    "        Credentials, the obtained credential.\n",
    "    \"\"\"\n",
    "    home_dir = os.path.expanduser('~')\n",
    "    credential_dir = os.path.join(home_dir, '.credentials')\n",
    "    if not os.path.exists(credential_dir):\n",
    "        os.makedirs(credential_dir)\n",
    "    credential_path = os.path.join(credential_dir,\n",
    "                                   'sheets.googleapis.com-python-quickstart.json')\n",
    "\n",
    "    store = Storage(credential_path)\n",
    "    credentials = store.get()\n",
    "    if not credentials or credentials.invalid:\n",
    "        flow = client.flow_from_clientsecrets(CLIENT_SECRET_FILE, SCOPES)\n",
    "        flow.user_agent = APPLICATION_NAME\n",
    "        if flags:\n",
    "            credentials = tools.run_flow(flow, store, flags)\n",
    "        else: # Needed only for compatibility with Python 2.6\n",
    "            credentials = tools.run(flow, store)\n",
    "        print 'Storing credentials to ' + credential_path \n",
    "    return credentials\n",
    "\n",
    "\n",
    "\"\"\"Shows basic usage of the Sheets API.\n",
    "\n",
    "ingrdients spreadsheet:\n",
    "https://docs.google.com/spreadsheets/d/1LHojuRe1U7nhJUG-m7aMfA4BNQX-BmbmGlCSErE1NIg/edit\n",
    "\"\"\"\n",
    "credentials = get_credentials()\n",
    "http = credentials.authorize(httplib2.Http())\n",
    "discoveryUrl = ('https://sheets.googleapis.com/$discovery/rest?'\n",
    "                'version=v4')\n",
    "service = discovery.build('sheets', 'v4', http=http,\n",
    "                          discoveryServiceUrl=discoveryUrl)\n",
    "\n",
    "spreadsheetId = '1LHojuRe1U7nhJUG-m7aMfA4BNQX-BmbmGlCSErE1NIg'\n",
    "rangeName = 'All_in_one'\n",
    "result = service.spreadsheets().values().get(\n",
    "    spreadsheetId=spreadsheetId, range=rangeName).execute()\n",
    "values = result.get('values', [])\n",
    "\n",
    "if not values:\n",
    "    print 'No data found.'\n",
    "\n",
    "scoodit_ingredients = pd.DataFrame(values[1:],columns=result.get('values')[0])\n",
    "scoodit_ingredients = scoodit_ingredients.dropna(subset=['Categorie1'])\n",
    "for col in scoodit_ingredients.columns:\n",
    "    scoodit_ingredients[col] = scoodit_ingredients[col].str.lower().str.strip()\n",
    "print 'list of scoodit ingredients from google doc'\n",
    "scoodit_ingredients.head()"
   ]
  },
  {
   "cell_type": "code",
   "execution_count": 4,
   "metadata": {
    "collapsed": false
   },
   "outputs": [],
   "source": [
    "_ = source('../scoodit.env')"
   ]
  },
  {
   "cell_type": "code",
   "execution_count": 5,
   "metadata": {
    "collapsed": false
   },
   "outputs": [
    {
     "data": {
      "text/plain": [
       "'nsckir'"
      ]
     },
     "execution_count": 5,
     "metadata": {},
     "output_type": "execute_result"
    }
   ],
   "source": [
    "os.environ['IMAGENET_USERNAME']"
   ]
  },
  {
   "cell_type": "code",
   "execution_count": null,
   "metadata": {
    "collapsed": false
   },
   "outputs": [
    {
     "name": "stdout",
     "output_type": "stream",
     "text": [
      "Downloading: http://www.image-net.org/download/synset?wnid=n07739125&username=nsckir&accesskey=293780e006d78276e0080b5fc6033cd45010671f&release=latest&src=stanford Bytes: 139776000\n"
     ]
    }
   ],
   "source": [
    "\n",
    "downloader = imagedownloader.ImageNetDownloader()\n",
    "username = os.environ['IMAGENET_USERNAME']\n",
    "accessKey = os.environ['IMAGENET_ACCESSKEY']\n",
    "\n",
    "userInfo = pref_utils.readUserInfo()\n",
    "scoodit_wnids = {}\n",
    "wnid_cols = scoodit_ingredients.columns[scoodit_ingredients.columns.str.contains('wnid')]\n",
    "for ind, ing in scoodit_ingredients.iloc[:1].iterrows():\n",
    "    for wnid in ing[wnid_cols].dropna():\n",
    "        #download images\n",
    "        downloader.downloadOriginalImages(wnid, username, accessKey)\n",
    "\n",
    "        \n",
    "        "
   ]
  },
  {
   "cell_type": "code",
   "execution_count": null,
   "metadata": {
    "collapsed": true
   },
   "outputs": [],
   "source": []
  }
 ],
 "metadata": {
  "kernelspec": {
   "display_name": "Python 2",
   "language": "python",
   "name": "python2"
  },
  "language_info": {
   "codemirror_mode": {
    "name": "ipython",
    "version": 2
   },
   "file_extension": ".py",
   "mimetype": "text/x-python",
   "name": "python",
   "nbconvert_exporter": "python",
   "pygments_lexer": "ipython2",
   "version": "2.7.13"
  }
 },
 "nbformat": 4,
 "nbformat_minor": 2
}
